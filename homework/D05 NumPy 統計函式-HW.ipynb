{
 "cells": [
  {
   "cell_type": "markdown",
   "metadata": {
    "id": "oef8c2jr-PZY"
   },
   "source": [
    "作業目標<br>\n",
    "計算有缺失值的資料，統計量實作<br>\n",
    "作業重點<br>\n",
    "當遇到缺失值有函式可以處理，不須額外寫程式刪除<br>\n",
    "計算統計量時不能出現缺失值"
   ]
  },
  {
   "cell_type": "markdown",
   "metadata": {
    "id": "4YgL8NF4-Ru3"
   },
   "source": [
    "題目:<br>\n",
    "english_score = np.array([55,89,76,65,48,70])<br>\n",
    "math_score = np.array([60,85,60,68,np.nan,60])<br>\n",
    "chinese_score = np.array([65,90,82,72,66,77])<br>\n",
    "上3列共六位同學的英文、數學、國文成績，第一個元素代表第一位同學，舉例第一位同學英文55分、數學60分、國文65分，今天第五位同學因某原因沒來考試，導致數學成績缺值，運用上列數據回答下列問題。<br>\n",
    "1. 請計算各科成績平均、最大值、最小值、標準差，其中數學缺一筆資料可忽略?\n",
    "2. 第五位同學補考數學後成績為55，請計算補考後數學成績平均、最大值、最小值、標準差?\n",
    "3. 用補考後資料找出與國文成績相關係數最高的學科?"
   ]
  },
  {
   "cell_type": "code",
   "execution_count": 1,
   "metadata": {
    "executionInfo": {
     "elapsed": 617,
     "status": "ok",
     "timestamp": 1609854566856,
     "user": {
      "displayName": "献竤黃",
      "photoUrl": "",
      "userId": "07529243043474362942"
     },
     "user_tz": -480
    },
    "id": "QwsKU8qO-RK7"
   },
   "outputs": [],
   "source": [
    "import numpy as np"
   ]
  },
  {
   "cell_type": "code",
   "execution_count": 3,
   "metadata": {
    "executionInfo": {
     "elapsed": 1016,
     "status": "ok",
     "timestamp": 1609854567261,
     "user": {
      "displayName": "献竤黃",
      "photoUrl": "",
      "userId": "07529243043474362942"
     },
     "user_tz": -480
    },
    "id": "B5BqDQAe_czh"
   },
   "outputs": [],
   "source": [
    "english_score = np.array([55,89,76,65,48,70])\n",
    "math_score = np.array([60,85,60,68,np.nan,60])\n",
    "chinese_score = np.array([65,90,82,72,66,77])\n",
    "def information(a):\n",
    "    avg = np.nanmean(a)\n",
    "    maxi = np.nanmax(a)\n",
    "    mini = np.nanmin(a)\n",
    "    std = np.nanstd(a)\n",
    "    return avg,maxi,mini,std"
   ]
  },
  {
   "cell_type": "code",
   "execution_count": 4,
   "metadata": {
    "executionInfo": {
     "elapsed": 1005,
     "status": "ok",
     "timestamp": 1609854567262,
     "user": {
      "displayName": "献竤黃",
      "photoUrl": "",
      "userId": "07529243043474362942"
     },
     "user_tz": -480
    },
    "id": "K3tUA6u9aI3N"
   },
   "outputs": [
    {
     "name": "stdout",
     "output_type": "stream",
     "text": [
      "---------------English----------------\n",
      "Average of English: 67.16666666666667\n",
      "Maximum of English: 89\n",
      "Minimum of English: 48\n",
      "Std of English: 13.433995020924426\n",
      "\n",
      "----------------Math-------------------\n",
      "Average of Math: 66.6\n",
      "Maximum of Math: 85.0\n",
      "Minimum of Math: 60.0\n",
      "Std of Math: 9.707728879609279\n",
      "\n",
      "---------------chinese-----------------\n",
      "Average of chinese: 75.33333333333333\n",
      "Maximum of chinese: 90\n",
      "Minimum of chinese: 65\n",
      "Std of chinese: 8.825468196582484\n",
      "\n"
     ]
    }
   ],
   "source": [
    "#1. 請計算各科成績平均、最大值、最小值、標準差，其中數學缺一筆資料可忽略?\n",
    "avg_eng, max_eng, min_eng, std_eng = information(english_score)\n",
    "print('---------------English----------------')\n",
    "print('Average of English:',avg_eng)\n",
    "print('Maximum of English:',max_eng)\n",
    "print('Minimum of English:',min_eng)\n",
    "print('Std of English:',std_eng)\n",
    "print()\n",
    "\n",
    "avg_math, max_math, min_math, std_math = information(math_score)\n",
    "print('----------------Math-------------------')\n",
    "print('Average of Math:',avg_math)\n",
    "print('Maximum of Math:',max_math)\n",
    "print('Minimum of Math:',min_math)\n",
    "print('Std of Math:',std_math)\n",
    "print()\n",
    "\n",
    "avg_chinese, max_chinese, min_chinese, std_chinese = information(chinese_score)\n",
    "print('---------------chinese-----------------')\n",
    "print('Average of chinese:',avg_chinese)\n",
    "print('Maximum of chinese:',max_chinese)\n",
    "print('Minimum of chinese:',min_chinese)\n",
    "print('Std of chinese:',std_chinese)\n",
    "print()"
   ]
  },
  {
   "cell_type": "code",
   "execution_count": 5,
   "metadata": {
    "executionInfo": {
     "elapsed": 996,
     "status": "ok",
     "timestamp": 1609854567262,
     "user": {
      "displayName": "献竤黃",
      "photoUrl": "",
      "userId": "07529243043474362942"
     },
     "user_tz": -480
    },
    "id": "mXjDzvSrbLlf"
   },
   "outputs": [
    {
     "name": "stdout",
     "output_type": "stream",
     "text": [
      "---------------Math----------------\n",
      "Average of Math: 64.66666666666667\n",
      "Maximum of Math: 85.0\n",
      "Minimum of Math: 55.0\n",
      "Std of Math: 9.860132971832694\n"
     ]
    }
   ],
   "source": [
    "#2. 第五位同學補考數學後成績為55，請計算補考後數學成績平均、最大值、最小值、標準差?\n",
    "math_score[4] = 55\n",
    "avg_math, max_math, min_math, std_math = information(math_score)\n",
    "print('---------------Math----------------')\n",
    "print('Average of Math:',avg_math)\n",
    "print('Maximum of Math:',max_math)\n",
    "print('Minimum of Math:',min_math)\n",
    "print('Std of Math:',std_math)"
   ]
  },
  {
   "cell_type": "code",
   "execution_count": 7,
   "metadata": {
    "executionInfo": {
     "elapsed": 989,
     "status": "ok",
     "timestamp": 1609854567264,
     "user": {
      "displayName": "献竤黃",
      "photoUrl": "",
      "userId": "07529243043474362942"
     },
     "user_tz": -480
    },
    "id": "SaGolKx0cKoU"
   },
   "outputs": [
    {
     "name": "stdout",
     "output_type": "stream",
     "text": [
      "[[1.         0.7855563  0.97792828]\n",
      " [0.7855563  1.         0.74056803]\n",
      " [0.97792828 0.74056803 1.        ]]\n",
      "\n",
      "English\n"
     ]
    }
   ],
   "source": [
    "#3. 用補考後資料找出與國文成績相關係數最高的學科?\n",
    "matrix=np.corrcoef([english_score,math_score,chinese_score])\n",
    "print(matrix)\n",
    "matrix\n",
    "print()\n",
    "if matrix[0][2]>matrix[1][2]:\n",
    "    print('English')\n",
    "else:\n",
    "    print('Math')\n"
   ]
  },
  {
   "cell_type": "code",
   "execution_count": 5,
   "metadata": {
    "executionInfo": {
     "elapsed": 987,
     "status": "ok",
     "timestamp": 1609854567264,
     "user": {
      "displayName": "献竤黃",
      "photoUrl": "",
      "userId": "07529243043474362942"
     },
     "user_tz": -480
    },
    "id": "fTNlLZ9Pzyiy"
   },
   "outputs": [],
   "source": []
  }
 ],
 "metadata": {
  "colab": {
   "authorship_tag": "ABX9TyPtywwDR7TsGGEOMGYLDT5h",
   "collapsed_sections": [],
   "name": "作業Hong題目.ipynb",
   "provenance": []
  },
  "kernelspec": {
   "display_name": "Python 3",
   "language": "python",
   "name": "python3"
  },
  "language_info": {
   "codemirror_mode": {
    "name": "ipython",
    "version": 3
   },
   "file_extension": ".py",
   "mimetype": "text/x-python",
   "name": "python",
   "nbconvert_exporter": "python",
   "pygments_lexer": "ipython3",
   "version": "3.8.5"
  }
 },
 "nbformat": 4,
 "nbformat_minor": 1
}
